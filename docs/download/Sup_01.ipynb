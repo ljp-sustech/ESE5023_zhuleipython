{
 "cells": [
  {
   "cell_type": "code",
   "execution_count": null,
   "id": "deeb9843",
   "metadata": {},
   "outputs": [],
   "source": [
    "#--------------------------------------------------\n",
    "# IMPORTANT NOTE:\n",
    "# We will use the cper environment in this section,\n",
    "# make sure you have activated it. \n",
    "# Open jupyter notebook under cper NOT the base.\n",
    "#--------------------------------------------------\n",
    "\n",
    "# Load modules\n",
    "import numpy as np\n",
    "import xarray as xr\n",
    "import dask.array as da\n",
    "from matplotlib import pyplot as plt\n",
    "%matplotlib inline\n",
    "import graphviz\n",
    "from dask.distributed import Client\n",
    "from dask import delayed\n",
    "from time import sleep"
   ]
  },
  {
   "cell_type": "code",
   "execution_count": null,
   "id": "908d0d9b",
   "metadata": {},
   "outputs": [],
   "source": [
    "# Create a numpy array\n",
    "shape = (1000, 4000)\n",
    "ones_np = np.ones(shape)\n",
    "ones_np"
   ]
  },
  {
   "cell_type": "code",
   "execution_count": null,
   "id": "7a2c8827",
   "metadata": {},
   "outputs": [],
   "source": [
    "# Check the size of array in MB\n",
    "ones_np.nbytes / 1e6"
   ]
  },
  {
   "cell_type": "code",
   "execution_count": null,
   "id": "42451ec8",
   "metadata": {},
   "outputs": [],
   "source": [
    "# Create a dask array\n",
    "ones_da = da.ones(shape)\n",
    "ones_da"
   ]
  },
  {
   "cell_type": "code",
   "execution_count": null,
   "id": "30826abd",
   "metadata": {},
   "outputs": [],
   "source": [
    "# Specify the chunk\n",
    "chunk_shape = (1000, 1000)\n",
    "ones_da = da.ones(shape, chunks=chunk_shape)\n",
    "ones_da"
   ]
  },
  {
   "cell_type": "code",
   "execution_count": null,
   "id": "2fffda4f",
   "metadata": {},
   "outputs": [],
   "source": [
    "# Run computation\n",
    "ones_da.compute()"
   ]
  },
  {
   "cell_type": "code",
   "execution_count": null,
   "id": "3df979e3",
   "metadata": {},
   "outputs": [],
   "source": [
    "# Visualize the computation\n",
    "ones_da.visualize()"
   ]
  },
  {
   "cell_type": "code",
   "execution_count": null,
   "id": "30b1acc9",
   "metadata": {},
   "outputs": [],
   "source": [
    "# Reduce the array with sum()\n",
    "sum_of_ones = ones_da.sum()\n",
    "\n",
    "# Visualize the computation\n",
    "sum_of_ones.visualize()"
   ]
  },
  {
   "cell_type": "code",
   "execution_count": null,
   "id": "3f130c16",
   "metadata": {},
   "outputs": [],
   "source": [
    "# A much bigger array\n",
    "bigshape = (200000, 4000)\n",
    "\n",
    "# Define the array (lazy method)\n",
    "big_ones = da.ones(bigshape, chunks=chunk_shape)\n",
    "\n",
    "# Run computation\n",
    "big_ones"
   ]
  },
  {
   "cell_type": "code",
   "execution_count": null,
   "id": "a5019d9a",
   "metadata": {},
   "outputs": [],
   "source": [
    "# Check the size of array in MB\n",
    "big_ones.nbytes / 1e6"
   ]
  },
  {
   "cell_type": "code",
   "execution_count": null,
   "id": "92c8e0fd",
   "metadata": {},
   "outputs": [],
   "source": [
    "# Import ProgressBar\n",
    "from dask.diagnostics import ProgressBar\n",
    "\n",
    "# Define the computation (lazy method)\n",
    "calc = (np.cos(big_ones)**2).mean()\n",
    "\n",
    "# Show ProgressBar\n",
    "with ProgressBar():\n",
    "    # Run computation\n",
    "    result = calc.compute()\n",
    "\n",
    "# Show result\n",
    "result"
   ]
  },
  {
   "cell_type": "code",
   "execution_count": null,
   "id": "7c09b1a4",
   "metadata": {},
   "outputs": [],
   "source": [
    "# Define the computation (lazy method)\n",
    "calc2 = (np.exp(big_ones)**10).mean(axis=0)\n",
    "calc2"
   ]
  },
  {
   "cell_type": "code",
   "execution_count": null,
   "id": "fb18a5ae",
   "metadata": {},
   "outputs": [],
   "source": [
    "# Run computation and plot\n",
    "plt.plot(calc2)"
   ]
  },
  {
   "cell_type": "code",
   "execution_count": null,
   "id": "53d40833",
   "metadata": {},
   "outputs": [],
   "source": [
    "# Use the distributed scheduler to form a client (local cluster)\n",
    "# 4 workers, 1 thread (CPU) per worker\n",
    "my_client = Client(n_workers=4, threads_per_worker=1)\n",
    "\n",
    "# Show information of the local client\n",
    "my_client.cluster"
   ]
  },
  {
   "cell_type": "code",
   "execution_count": null,
   "id": "bea6665a",
   "metadata": {},
   "outputs": [],
   "source": [
    "# Define two functions\n",
    "def fun1(x):\n",
    "    sleep(1)\n",
    "    return x + 1\n",
    "\n",
    "def fun2(x, y):\n",
    "    sleep(1)\n",
    "    return x + y"
   ]
  },
  {
   "cell_type": "code",
   "execution_count": null,
   "id": "3ca5e875",
   "metadata": {},
   "outputs": [],
   "source": [
    "%%time\n",
    "\n",
    "# This takes three seconds to run because we call each\n",
    "# function sequentially, one after the other\n",
    "\n",
    "# Call fun1\n",
    "x = fun1(1)\n",
    "\n",
    "# Call fun1\n",
    "y = fun1(2)\n",
    "\n",
    "# Call fun2\n",
    "z = fun2(x, y)"
   ]
  },
  {
   "cell_type": "code",
   "execution_count": null,
   "id": "3d63b71f",
   "metadata": {},
   "outputs": [],
   "source": [
    "%%time\n",
    "\n",
    "# This runs immediately, all it does is build a graph\n",
    "x = delayed(fun1)(1)\n",
    "y = delayed(fun1)(2)\n",
    "z = delayed(fun2)(x, y)"
   ]
  },
  {
   "cell_type": "code",
   "execution_count": null,
   "id": "1328bd44",
   "metadata": {},
   "outputs": [],
   "source": [
    "%%time\n",
    "\n",
    "# This actually runs our computation using a local cluster\n",
    "z.compute()"
   ]
  },
  {
   "cell_type": "code",
   "execution_count": null,
   "id": "341c2b24",
   "metadata": {},
   "outputs": [],
   "source": [
    "# Look at the task graph for z\n",
    "z.visualize()"
   ]
  },
  {
   "cell_type": "code",
   "execution_count": null,
   "id": "0d315f09",
   "metadata": {},
   "outputs": [],
   "source": [
    "# Make a simple list\n",
    "data = [1, 2, 3, 4, 5, 6, 7]"
   ]
  },
  {
   "cell_type": "code",
   "execution_count": null,
   "id": "690f5ea1",
   "metadata": {},
   "outputs": [],
   "source": [
    "%%time\n",
    "\n",
    "# Sequential code\n",
    "results = []\n",
    "\n",
    "# Loop element one by one\n",
    "for i in data:\n",
    "    temp = fun1(i)\n",
    "    results.append(temp)\n",
    "\n",
    "# Compute\n",
    "total = sum(results)\n",
    "\n",
    "# After it's computed\n",
    "print(\"After computing :\", total)  "
   ]
  },
  {
   "cell_type": "code",
   "execution_count": null,
   "id": "ba1690ae",
   "metadata": {},
   "outputs": [],
   "source": [
    "%%time\n",
    "\n",
    "# Parallel code \n",
    "results = []\n",
    "\n",
    "for i in data:\n",
    "    temp = delayed(fun1)(i)\n",
    "    results.append(temp)\n",
    "\n",
    "# Define the method\n",
    "total = delayed(sum)(results)\n",
    "\n",
    "# Let's see what type of thing total is\n",
    "print(\"Before computing:\", total)\n",
    "\n",
    "# Compute\n",
    "result = total.compute()\n",
    "\n",
    "# After it's computed\n",
    "print(\"After computing :\", result)  "
   ]
  },
  {
   "cell_type": "code",
   "execution_count": null,
   "id": "57165353",
   "metadata": {},
   "outputs": [],
   "source": [
    "# Look at the task graph for total\n",
    "total.visualize()"
   ]
  },
  {
   "cell_type": "code",
   "execution_count": null,
   "id": "bcadd0e6",
   "metadata": {},
   "outputs": [],
   "source": [
    "# Load the first file with xarray\n",
    "ds_first = xr.open_dataset('aviso_2015/dt_global_allsat_madt_h_20150101_20150914.nc')\n",
    "\n",
    "# Check the data\n",
    "ds_first"
   ]
  },
  {
   "cell_type": "code",
   "execution_count": null,
   "id": "42204ed5",
   "metadata": {},
   "outputs": [],
   "source": [
    "# Use open_mfdataset to load all the nc files\n",
    "ds = xr.open_mfdataset('aviso_2015/*.nc')\n",
    "\n",
    "# Check data object\n",
    "# Notice that the values are not displayed\n",
    "ds"
   ]
  },
  {
   "cell_type": "code",
   "execution_count": null,
   "id": "d5595ba2",
   "metadata": {},
   "outputs": [],
   "source": [
    "# Get sea surface height (adt)\n",
    "ssh = ds.adt\n",
    "\n",
    "# Check the data, this is a dask array\n",
    "ssh"
   ]
  },
  {
   "cell_type": "code",
   "execution_count": null,
   "id": "036219b6",
   "metadata": {},
   "outputs": [],
   "source": [
    "# Compute annual mean ssh\n",
    "ssh_2015_mean = ssh.mean(dim='time')"
   ]
  },
  {
   "cell_type": "code",
   "execution_count": null,
   "id": "81480fff",
   "metadata": {},
   "outputs": [],
   "source": [
    "# Compute annual mean ssh\n",
    "ssh_2015_mean.load()\n",
    "\n",
    "# Plot annual mean\n",
    "ssh_2015_mean.plot()"
   ]
  },
  {
   "cell_type": "code",
   "execution_count": null,
   "id": "f64f9403",
   "metadata": {},
   "outputs": [],
   "source": [
    "# Close the client (local cluster)\n",
    "my_client.close()"
   ]
  }
 ],
 "metadata": {
  "kernelspec": {
   "display_name": "Python 3 (ipykernel)",
   "language": "python",
   "name": "python3"
  },
  "language_info": {
   "codemirror_mode": {
    "name": "ipython",
    "version": 3
   },
   "file_extension": ".py",
   "mimetype": "text/x-python",
   "name": "python",
   "nbconvert_exporter": "python",
   "pygments_lexer": "ipython3",
   "version": "3.8.8"
  }
 },
 "nbformat": 4,
 "nbformat_minor": 5
}
